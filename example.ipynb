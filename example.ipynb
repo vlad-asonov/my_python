{
 "cells": [
  {
   "cell_type": "code",
   "execution_count": 2,
   "metadata": {},
   "outputs": [],
   "source": [
    "import pandas as pd\n",
    "import numpy as np\n",
    "import seaborn as sns"
   ]
  },
  {
   "cell_type": "code",
   "execution_count": 3,
   "metadata": {},
   "outputs": [],
   "source": [
    "bikes_Q2_april = pd.read_csv(\"https://stepik.org/media/attachments/lesson/367415/bikes_q2_sample_apr.csv\")\n",
    "bikes_Q2_may = pd.read_csv(\"https://stepik.org/media/attachments/lesson/367415/bikes_q2_sample_may.csv\")\n",
    "bikes_Q2_june = pd.read_csv(\"https://stepik.org/media/attachments/lesson/367415/bikes_q2_sample_jun.csv\")\n",
    "bikes_Q3_july = pd.read_csv(\"https://stepik.org/media/attachments/lesson/367415/bikes_q3_sample_july.csv\")\n",
    "bikes_Q3_august = pd.read_csv(\"https://stepik.org/media/attachments/lesson/367415/bikes_q3_sample_aug.csv\")\n",
    "bikes_Q3_september = pd.read_csv(\"https://stepik.org/media/attachments/lesson/367415/bikes_q3_sample_sep.csv\")\n",
    "bikes_Q4_october = pd.read_csv(\"https://stepik.org/media/attachments/lesson/367415/bikes_q4_sample_oct.csv\")\n",
    "bikes_Q4_november = pd.read_csv(\"https://stepik.org/media/attachments/lesson/367415/bikes_q4_sample_nov.csv\")\n",
    "bikes_Q4_december = pd.read_csv(\"https://stepik.org/media/attachments/lesson/367415/bikes_q4_sample_dec.csv\")\n",
    "bikes = [bikes_Q2_april,bikes_Q2_may,bikes_Q2_june,bikes_Q3_july,bikes_Q3_august,bikes_Q3_september,bikes_Q4_october,bikes_Q4_november,bikes_Q4_december]"
   ]
  },
  {
   "cell_type": "code",
   "execution_count": 4,
   "metadata": {},
   "outputs": [],
   "source": [
    "for i in bikes:\n",
    "    i[[\"start_time\",\"end_time\"]] = i[[\"start_time\",\"end_time\"]].apply(pd.to_datetime)\n",
    "    i.set_index(\"start_time\",inplace=True)\n",
    "bikes = pd.concat(bikes)"
   ]
  },
  {
   "cell_type": "code",
   "execution_count": 5,
   "metadata": {},
   "outputs": [],
   "source": [
    "customers_vs_subscribers = bikes.groupby(\"usertype\").trip_id.resample(\"1d\").count().unstack(level = \"usertype\")"
   ]
  },
  {
   "cell_type": "code",
   "execution_count": 6,
   "metadata": {},
   "outputs": [],
   "source": [
    "more_customers = (customers_vs_subscribers.Customer > customers_vs_subscribers.Subscriber).to_frame(name=\"more_customers\")"
   ]
  },
  {
   "cell_type": "code",
   "execution_count": 7,
   "metadata": {},
   "outputs": [
    {
     "data": {
      "text/html": [
       "<div>\n",
       "<style scoped>\n",
       "    .dataframe tbody tr th:only-of-type {\n",
       "        vertical-align: middle;\n",
       "    }\n",
       "\n",
       "    .dataframe tbody tr th {\n",
       "        vertical-align: top;\n",
       "    }\n",
       "\n",
       "    .dataframe thead th {\n",
       "        text-align: right;\n",
       "    }\n",
       "</style>\n",
       "<table border=\"1\" class=\"dataframe\">\n",
       "  <thead>\n",
       "    <tr style=\"text-align: right;\">\n",
       "      <th></th>\n",
       "      <th>more_customers</th>\n",
       "    </tr>\n",
       "    <tr>\n",
       "      <th>start_time</th>\n",
       "      <th></th>\n",
       "    </tr>\n",
       "  </thead>\n",
       "  <tbody>\n",
       "    <tr>\n",
       "      <th>2018-05-27</th>\n",
       "      <td>True</td>\n",
       "    </tr>\n",
       "    <tr>\n",
       "      <th>2018-09-02</th>\n",
       "      <td>True</td>\n",
       "    </tr>\n",
       "  </tbody>\n",
       "</table>\n",
       "</div>"
      ],
      "text/plain": [
       "            more_customers\n",
       "start_time                \n",
       "2018-05-27            True\n",
       "2018-09-02            True"
      ]
     },
     "execution_count": 7,
     "metadata": {},
     "output_type": "execute_result"
    }
   ],
   "source": [
    "more_customers[more_customers.more_customers==True]"
   ]
  },
  {
   "cell_type": "code",
   "execution_count": 8,
   "metadata": {},
   "outputs": [
    {
     "data": {
      "text/html": [
       "<div>\n",
       "<style scoped>\n",
       "    .dataframe tbody tr th:only-of-type {\n",
       "        vertical-align: middle;\n",
       "    }\n",
       "\n",
       "    .dataframe tbody tr th {\n",
       "        vertical-align: top;\n",
       "    }\n",
       "\n",
       "    .dataframe thead th {\n",
       "        text-align: right;\n",
       "    }\n",
       "</style>\n",
       "<table border=\"1\" class=\"dataframe\">\n",
       "  <thead>\n",
       "    <tr style=\"text-align: right;\">\n",
       "      <th></th>\n",
       "      <th>trip_id</th>\n",
       "      <th>end_time</th>\n",
       "      <th>bikeid</th>\n",
       "      <th>tripduration</th>\n",
       "      <th>from_station_id</th>\n",
       "      <th>from_station_name</th>\n",
       "      <th>to_station_id</th>\n",
       "      <th>to_station_name</th>\n",
       "      <th>usertype</th>\n",
       "      <th>gender</th>\n",
       "      <th>birthyear</th>\n",
       "    </tr>\n",
       "    <tr>\n",
       "      <th>start_time</th>\n",
       "      <th></th>\n",
       "      <th></th>\n",
       "      <th></th>\n",
       "      <th></th>\n",
       "      <th></th>\n",
       "      <th></th>\n",
       "      <th></th>\n",
       "      <th></th>\n",
       "      <th></th>\n",
       "      <th></th>\n",
       "      <th></th>\n",
       "    </tr>\n",
       "  </thead>\n",
       "  <tbody>\n",
       "    <tr>\n",
       "      <th>2018-06-01 00:04:40</th>\n",
       "      <td>18709077</td>\n",
       "      <td>2018-06-01 00:06:47</td>\n",
       "      <td>3155</td>\n",
       "      <td>127.0</td>\n",
       "      <td>128</td>\n",
       "      <td>Damen Ave &amp; Chicago Ave</td>\n",
       "      <td>214</td>\n",
       "      <td>Damen Ave &amp; Grand Ave</td>\n",
       "      <td>Subscriber</td>\n",
       "      <td>Female</td>\n",
       "      <td>1978.0</td>\n",
       "    </tr>\n",
       "    <tr>\n",
       "      <th>2018-06-01 00:06:08</th>\n",
       "      <td>18709080</td>\n",
       "      <td>2018-06-01 00:24:18</td>\n",
       "      <td>2807</td>\n",
       "      <td>1,090.0</td>\n",
       "      <td>258</td>\n",
       "      <td>Logan Blvd &amp; Elston Ave</td>\n",
       "      <td>69</td>\n",
       "      <td>Damen Ave &amp; Pierce Ave</td>\n",
       "      <td>Customer</td>\n",
       "      <td>NaN</td>\n",
       "      <td>NaN</td>\n",
       "    </tr>\n",
       "    <tr>\n",
       "      <th>2018-06-01 00:08:01</th>\n",
       "      <td>18709086</td>\n",
       "      <td>2018-06-01 00:32:55</td>\n",
       "      <td>2737</td>\n",
       "      <td>1,494.0</td>\n",
       "      <td>337</td>\n",
       "      <td>Clark St &amp; Chicago Ave</td>\n",
       "      <td>225</td>\n",
       "      <td>Halsted St &amp; Dickens Ave</td>\n",
       "      <td>Customer</td>\n",
       "      <td>Male</td>\n",
       "      <td>1988.0</td>\n",
       "    </tr>\n",
       "    <tr>\n",
       "      <th>2018-06-01 00:09:02</th>\n",
       "      <td>18709091</td>\n",
       "      <td>2018-06-01 00:19:21</td>\n",
       "      <td>6089</td>\n",
       "      <td>619.0</td>\n",
       "      <td>210</td>\n",
       "      <td>Ashland Ave &amp; Division St</td>\n",
       "      <td>56</td>\n",
       "      <td>Desplaines St &amp; Kinzie St</td>\n",
       "      <td>Subscriber</td>\n",
       "      <td>Male</td>\n",
       "      <td>1987.0</td>\n",
       "    </tr>\n",
       "    <tr>\n",
       "      <th>2018-06-01 00:09:28</th>\n",
       "      <td>18709092</td>\n",
       "      <td>2018-06-01 00:14:44</td>\n",
       "      <td>2352</td>\n",
       "      <td>316.0</td>\n",
       "      <td>240</td>\n",
       "      <td>Sheridan Rd &amp; Irving Park Rd</td>\n",
       "      <td>303</td>\n",
       "      <td>Broadway &amp; Cornelia Ave</td>\n",
       "      <td>Subscriber</td>\n",
       "      <td>Male</td>\n",
       "      <td>1997.0</td>\n",
       "    </tr>\n",
       "    <tr>\n",
       "      <th>...</th>\n",
       "      <td>...</td>\n",
       "      <td>...</td>\n",
       "      <td>...</td>\n",
       "      <td>...</td>\n",
       "      <td>...</td>\n",
       "      <td>...</td>\n",
       "      <td>...</td>\n",
       "      <td>...</td>\n",
       "      <td>...</td>\n",
       "      <td>...</td>\n",
       "      <td>...</td>\n",
       "    </tr>\n",
       "    <tr>\n",
       "      <th>2018-08-31 23:49:34</th>\n",
       "      <td>20479557</td>\n",
       "      <td>2018-08-31 23:56:20</td>\n",
       "      <td>4289</td>\n",
       "      <td>406.0</td>\n",
       "      <td>374</td>\n",
       "      <td>Western Ave &amp; Walton St</td>\n",
       "      <td>69</td>\n",
       "      <td>Damen Ave &amp; Pierce Ave</td>\n",
       "      <td>Subscriber</td>\n",
       "      <td>Male</td>\n",
       "      <td>1987.0</td>\n",
       "    </tr>\n",
       "    <tr>\n",
       "      <th>2018-08-31 23:49:56</th>\n",
       "      <td>20479559</td>\n",
       "      <td>2018-09-01 00:30:37</td>\n",
       "      <td>6337</td>\n",
       "      <td>2,441.0</td>\n",
       "      <td>497</td>\n",
       "      <td>Kimball Ave &amp; Belmont Ave</td>\n",
       "      <td>599</td>\n",
       "      <td>Valli Produce - Evanston Plaza</td>\n",
       "      <td>Subscriber</td>\n",
       "      <td>Male</td>\n",
       "      <td>1989.0</td>\n",
       "    </tr>\n",
       "    <tr>\n",
       "      <th>2018-08-31 23:50:01</th>\n",
       "      <td>20479560</td>\n",
       "      <td>2018-08-31 23:58:00</td>\n",
       "      <td>1429</td>\n",
       "      <td>479.0</td>\n",
       "      <td>113</td>\n",
       "      <td>Bissell St &amp; Armitage Ave</td>\n",
       "      <td>16</td>\n",
       "      <td>Paulina Ave &amp; North Ave</td>\n",
       "      <td>Subscriber</td>\n",
       "      <td>Male</td>\n",
       "      <td>1987.0</td>\n",
       "    </tr>\n",
       "    <tr>\n",
       "      <th>2018-08-31 23:54:44</th>\n",
       "      <td>20479564</td>\n",
       "      <td>2018-09-01 00:06:10</td>\n",
       "      <td>6204</td>\n",
       "      <td>686.0</td>\n",
       "      <td>623</td>\n",
       "      <td>Michigan Ave &amp; 8th St</td>\n",
       "      <td>99</td>\n",
       "      <td>Lake Shore Dr &amp; Ohio St</td>\n",
       "      <td>Subscriber</td>\n",
       "      <td>Male</td>\n",
       "      <td>1985.0</td>\n",
       "    </tr>\n",
       "    <tr>\n",
       "      <th>2018-08-31 23:57:44</th>\n",
       "      <td>20479571</td>\n",
       "      <td>2018-09-01 00:11:35</td>\n",
       "      <td>4357</td>\n",
       "      <td>831.0</td>\n",
       "      <td>297</td>\n",
       "      <td>Paulina St &amp; Montrose Ave</td>\n",
       "      <td>294</td>\n",
       "      <td>Broadway &amp; Berwyn Ave</td>\n",
       "      <td>Subscriber</td>\n",
       "      <td>Female</td>\n",
       "      <td>1995.0</td>\n",
       "    </tr>\n",
       "  </tbody>\n",
       "</table>\n",
       "<p>459817 rows × 11 columns</p>\n",
       "</div>"
      ],
      "text/plain": [
       "                      trip_id            end_time  bikeid tripduration  \\\n",
       "start_time                                                               \n",
       "2018-06-01 00:04:40  18709077 2018-06-01 00:06:47    3155        127.0   \n",
       "2018-06-01 00:06:08  18709080 2018-06-01 00:24:18    2807      1,090.0   \n",
       "2018-06-01 00:08:01  18709086 2018-06-01 00:32:55    2737      1,494.0   \n",
       "2018-06-01 00:09:02  18709091 2018-06-01 00:19:21    6089        619.0   \n",
       "2018-06-01 00:09:28  18709092 2018-06-01 00:14:44    2352        316.0   \n",
       "...                       ...                 ...     ...          ...   \n",
       "2018-08-31 23:49:34  20479557 2018-08-31 23:56:20    4289        406.0   \n",
       "2018-08-31 23:49:56  20479559 2018-09-01 00:30:37    6337      2,441.0   \n",
       "2018-08-31 23:50:01  20479560 2018-08-31 23:58:00    1429        479.0   \n",
       "2018-08-31 23:54:44  20479564 2018-09-01 00:06:10    6204        686.0   \n",
       "2018-08-31 23:57:44  20479571 2018-09-01 00:11:35    4357        831.0   \n",
       "\n",
       "                     from_station_id             from_station_name  \\\n",
       "start_time                                                           \n",
       "2018-06-01 00:04:40              128       Damen Ave & Chicago Ave   \n",
       "2018-06-01 00:06:08              258       Logan Blvd & Elston Ave   \n",
       "2018-06-01 00:08:01              337        Clark St & Chicago Ave   \n",
       "2018-06-01 00:09:02              210     Ashland Ave & Division St   \n",
       "2018-06-01 00:09:28              240  Sheridan Rd & Irving Park Rd   \n",
       "...                              ...                           ...   \n",
       "2018-08-31 23:49:34              374       Western Ave & Walton St   \n",
       "2018-08-31 23:49:56              497     Kimball Ave & Belmont Ave   \n",
       "2018-08-31 23:50:01              113     Bissell St & Armitage Ave   \n",
       "2018-08-31 23:54:44              623         Michigan Ave & 8th St   \n",
       "2018-08-31 23:57:44              297     Paulina St & Montrose Ave   \n",
       "\n",
       "                     to_station_id                 to_station_name  \\\n",
       "start_time                                                           \n",
       "2018-06-01 00:04:40            214           Damen Ave & Grand Ave   \n",
       "2018-06-01 00:06:08             69          Damen Ave & Pierce Ave   \n",
       "2018-06-01 00:08:01            225        Halsted St & Dickens Ave   \n",
       "2018-06-01 00:09:02             56       Desplaines St & Kinzie St   \n",
       "2018-06-01 00:09:28            303         Broadway & Cornelia Ave   \n",
       "...                            ...                             ...   \n",
       "2018-08-31 23:49:34             69          Damen Ave & Pierce Ave   \n",
       "2018-08-31 23:49:56            599  Valli Produce - Evanston Plaza   \n",
       "2018-08-31 23:50:01             16         Paulina Ave & North Ave   \n",
       "2018-08-31 23:54:44             99         Lake Shore Dr & Ohio St   \n",
       "2018-08-31 23:57:44            294           Broadway & Berwyn Ave   \n",
       "\n",
       "                       usertype  gender  birthyear  \n",
       "start_time                                          \n",
       "2018-06-01 00:04:40  Subscriber  Female     1978.0  \n",
       "2018-06-01 00:06:08    Customer     NaN        NaN  \n",
       "2018-06-01 00:08:01    Customer    Male     1988.0  \n",
       "2018-06-01 00:09:02  Subscriber    Male     1987.0  \n",
       "2018-06-01 00:09:28  Subscriber    Male     1997.0  \n",
       "...                         ...     ...        ...  \n",
       "2018-08-31 23:49:34  Subscriber    Male     1987.0  \n",
       "2018-08-31 23:49:56  Subscriber    Male     1989.0  \n",
       "2018-08-31 23:50:01  Subscriber    Male     1987.0  \n",
       "2018-08-31 23:54:44  Subscriber    Male     1985.0  \n",
       "2018-08-31 23:57:44  Subscriber  Female     1995.0  \n",
       "\n",
       "[459817 rows x 11 columns]"
      ]
     },
     "execution_count": 8,
     "metadata": {},
     "output_type": "execute_result"
    }
   ],
   "source": [
    "bikes_summer = bikes.loc[\"2018-06-01\":\"2018-08-31\"]\n",
    "bikes_summer"
   ]
  },
  {
   "cell_type": "code",
   "execution_count": 9,
   "metadata": {},
   "outputs": [
    {
     "data": {
      "text/plain": [
       "'Streeter Dr & Grand Ave'"
      ]
     },
     "execution_count": 9,
     "metadata": {},
     "output_type": "execute_result"
    }
   ],
   "source": [
    "top_destination = bikes_summer.to_station_name.value_counts().idxmax()\n",
    "top_destination"
   ]
  },
  {
   "cell_type": "code",
   "execution_count": 10,
   "metadata": {},
   "outputs": [],
   "source": [
    "destinations_by_day = bikes_summer.groupby(\"to_station_name\").trip_id.resample(\"1d\")\\\n",
    "                                    .count().unstack(level=\"to_station_name\").fillna(0)\n"
   ]
  },
  {
   "cell_type": "code",
   "execution_count": 11,
   "metadata": {},
   "outputs": [],
   "source": [
    "bad_day = destinations_by_day[top_destination].idxmin().strftime('%Y-%m-%d')"
   ]
  },
  {
   "cell_type": "code",
   "execution_count": 12,
   "metadata": {},
   "outputs": [
    {
     "name": "stderr",
     "output_type": "stream",
     "text": [
      "/opt/tljh/user/lib/python3.7/site-packages/ipykernel_launcher.py:1: SettingWithCopyWarning: \n",
      "A value is trying to be set on a copy of a slice from a DataFrame.\n",
      "Try using .loc[row_indexer,col_indexer] = value instead\n",
      "\n",
      "See the caveats in the documentation: https://pandas.pydata.org/pandas-docs/stable/user_guide/indexing.html#returning-a-view-versus-a-copy\n",
      "  \"\"\"Entry point for launching an IPython kernel.\n"
     ]
    }
   ],
   "source": [
    "bikes_summer[\"day\"] = bikes_summer.index.day_name()"
   ]
  },
  {
   "cell_type": "code",
   "execution_count": 50,
   "metadata": {},
   "outputs": [],
   "source": [
    "bikes_summer.day.unique()\n",
    "day_off = ['Saturday', 'Sunday']\n",
    "business_day = ['Friday','Monday', 'Tuesday', 'Wednesday',\n",
    "       'Thursday']\n",
    "           "
   ]
  },
  {
   "cell_type": "code",
   "execution_count": 52,
   "metadata": {},
   "outputs": [
    {
     "name": "stderr",
     "output_type": "stream",
     "text": [
      "/opt/tljh/user/lib/python3.7/site-packages/ipykernel_launcher.py:1: SettingWithCopyWarning: \n",
      "A value is trying to be set on a copy of a slice from a DataFrame.\n",
      "Try using .loc[row_indexer,col_indexer] = value instead\n",
      "\n",
      "See the caveats in the documentation: https://pandas.pydata.org/pandas-docs/stable/user_guide/indexing.html#returning-a-view-versus-a-copy\n",
      "  \"\"\"Entry point for launching an IPython kernel.\n"
     ]
    }
   ],
   "source": [
    "bikes_summer[\"bd_or_df\"] = np.where(bikes_summer.day.isin(business_day),1,0)"
   ]
  },
  {
   "cell_type": "code",
   "execution_count": 58,
   "metadata": {},
   "outputs": [],
   "source": [
    "top_destination_dayoff = bikes_summer[bikes_summer.bd_or_df == 0].to_station_name.value_counts().idxmax()\n",
    "top_destination_dayoff_bd = bikes_summer[bikes_summer.bd_or_df == 1].to_station_name.value_counts().idxmax()"
   ]
  },
  {
   "cell_type": "code",
   "execution_count": 62,
   "metadata": {},
   "outputs": [
    {
     "data": {
      "text/plain": [
       "Streeter Dr & Grand Ave                 3461\n",
       "Lake Shore Dr & North Blvd              1690\n",
       "Theater on the Lake                     1470\n",
       "Lake Shore Dr & Monroe St               1232\n",
       "Millennium Park                         1080\n",
       "                                        ... \n",
       "Damen Ave & 51st St                        1\n",
       "Stony Island Ave & 82nd St                 1\n",
       "Seeley Ave & Garfield Blvd                 1\n",
       "DIVVY CASSETTE REPAIR MOBILE STATION       1\n",
       "Ellis Ave & 83rd St                        1\n",
       "Name: to_station_name, Length: 557, dtype: int64"
      ]
     },
     "execution_count": 62,
     "metadata": {},
     "output_type": "execute_result"
    }
   ],
   "source": [
    "bikes_summer[bikes_summer.day==\"Saturday\"].to_station_name.value_counts()"
   ]
  },
  {
   "cell_type": "code",
   "execution_count": null,
   "metadata": {},
   "outputs": [],
   "source": []
  }
 ],
 "metadata": {
  "kernelspec": {
   "display_name": "Python 3",
   "language": "python",
   "name": "python3"
  },
  "language_info": {
   "codemirror_mode": {
    "name": "ipython",
    "version": 3
   },
   "file_extension": ".py",
   "mimetype": "text/x-python",
   "name": "python",
   "nbconvert_exporter": "python",
   "pygments_lexer": "ipython3",
   "version": "3.7.3"
  }
 },
 "nbformat": 4,
 "nbformat_minor": 4
}
